{
 "cells": [
  {
   "cell_type": "code",
   "execution_count": 4,
   "metadata": {},
   "outputs": [],
   "source": [
    "import pandas as pd\n",
    "import numpy as np\n",
    "import matplotlib.pyplot as plt\n",
    "import seaborn as sns\n",
    "\n",
    "PATH = \"/Users/benpfeffer/Library/Mobile Documents/com~apple~CloudDocs/projects-portfolio-main/5-octobre/\""
   ]
  },
  {
   "cell_type": "code",
   "execution_count": 12,
   "metadata": {},
   "outputs": [
    {
     "name": "stdout",
     "output_type": "stream",
     "text": [
      "(468, 9)\n",
      "(1000, 9)\n"
     ]
    }
   ],
   "source": [
    "order = pd.read_csv(f\"{PATH}/data/raw/Order Dec 17 2024.csv\", delimiter=\";\")\n",
    "order_2 = pd.read_csv(f\"{PATH}/data/raw/Order Dec 17 2024 (1).csv\", delimiter=\";\")\n",
    "print(order.shape)\n",
    "print(order_2.shape)\n",
    "order_2.columns = order.columns\n",
    "order = pd.concat([order, order_2])\n",
    "\n",
    "order.to_csv(f\"{PATH}/data/processed/order.csv\", index=False)\n"
   ]
  },
  {
   "cell_type": "code",
   "execution_count": 17,
   "metadata": {},
   "outputs": [],
   "source": [
    "cart = pd.read_csv(f\"{PATH}/data/raw/Cart Data Dec 17 2024.csv\", delimiter=\";\")\n",
    "cart2 = pd.read_csv(f\"{PATH}/data/raw/Cart Data Dec 17 2024 (1).csv\", delimiter=\";\")\n",
    "cart3 = pd.read_csv(f\"{PATH}/data/raw/Cart Data Dec 17 2024 (2).csv\", delimiter=\";\")\n",
    "\n",
    "cart = pd.concat([cart, cart2, cart3])\n",
    "cart.to_csv(f\"{PATH}/data/processed/cart.csv\", index=False)\n"
   ]
  },
  {
   "cell_type": "code",
   "execution_count": 29,
   "metadata": {},
   "outputs": [
    {
     "name": "stdout",
     "output_type": "stream",
     "text": [
      "id                0\n",
      "Référence         0\n",
      "Nouveau client    0\n",
      "Livraison         0\n",
      "Client            8\n",
      "Total             0\n",
      "Paiement          0\n",
      "État              0\n",
      "Date              0\n",
      "dtype: int64\n",
      "----------------------------------------------------------------------------------------------------\n",
      "id                 0\n",
      "ID commande        0\n",
      "Client          2280\n",
      "Total              0\n",
      "Transporteur    2609\n",
      "Date               0\n",
      "dtype: int64\n"
     ]
    }
   ],
   "source": [
    "print(order.isnull().sum()) \n",
    "print(\"-\"*100)\n",
    "print(cart.isnull().sum())"
   ]
  },
  {
   "cell_type": "code",
   "execution_count": 37,
   "metadata": {},
   "outputs": [
    {
     "name": "stdout",
     "output_type": "stream",
     "text": [
      "Order DataFrame null check:\n",
      "id                0\n",
      "Référence         0\n",
      "Nouveau client    0\n",
      "Livraison         0\n",
      "Client            0\n",
      "Total             0\n",
      "Paiement          0\n",
      "État              0\n",
      "Date              0\n",
      "dtype: int64\n",
      "\n",
      "Cart DataFrame null check:\n",
      "id              0\n",
      "ID commande     0\n",
      "Client          0\n",
      "Total           0\n",
      "Transporteur    0\n",
      "Date            0\n",
      "dtype: int64\n"
     ]
    }
   ],
   "source": [
    "# Fill NaN values in order DataFrame\n",
    "order['Client'] = order['Client'].fillna('Unknown')  # Fill missing client names with 'Unknown'\n",
    "order = order.fillna(0)  # Fill remaining numeric columns with 0\n",
    "\n",
    "# Fill NaN values in cart DataFrame \n",
    "cart['Client'] = cart['Client'].fillna('Unknown')  # Fill missing client names with 'Unknown'\n",
    "cart['Transporteur'] = cart['Transporteur'].fillna('Unknown')  # Fill missing transporteur names with 'Unknown'\n",
    "\n",
    "# Verify no more null values\n",
    "print(\"Order DataFrame null check:\")\n",
    "print(order.isnull().sum())\n",
    "print(\"\\nCart DataFrame null check:\") \n",
    "print(cart.isnull().sum())\n"
   ]
  },
  {
   "cell_type": "code",
   "execution_count": 38,
   "metadata": {},
   "outputs": [],
   "source": [
    "order.to_csv(f\"{PATH}/data/cleaned/order.csv\", index=False)\n",
    "cart.to_csv(f\"{PATH}/data/cleaned/cart.csv\", index=False)\n"
   ]
  }
 ],
 "metadata": {
  "kernelspec": {
   "display_name": "Python 3",
   "language": "python",
   "name": "python3"
  },
  "language_info": {
   "codemirror_mode": {
    "name": "ipython",
    "version": 3
   },
   "file_extension": ".py",
   "mimetype": "text/x-python",
   "name": "python",
   "nbconvert_exporter": "python",
   "pygments_lexer": "ipython3",
   "version": "3.12.4"
  }
 },
 "nbformat": 4,
 "nbformat_minor": 2
}
